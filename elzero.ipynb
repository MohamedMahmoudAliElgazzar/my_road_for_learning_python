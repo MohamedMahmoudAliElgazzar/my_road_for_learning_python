{
 "cells": [
  {
   "cell_type": "code",
   "execution_count": 24,
   "metadata": {},
   "outputs": [
    {
     "name": "stdout",
     "output_type": "stream",
     "text": [
      "################################################################################\n",
      "########you can write the first letter or the full name of the time unit########\n",
      "################################################################################\n"
     ]
    }
   ],
   "source": [
    "print(\"#\"*80)\n",
    "print(\"you can write the first letter or the full name of the time unit\".center(80,\"#\"))\n",
    "print(\"#\"*80)\n",
    "age = input(\"please write your age\").strip()\n",
    "unit= input(\"please choose time unit: Months, Weeks , Days\").strip().lower()"
   ]
  },
  {
   "cell_type": "code",
   "execution_count": 25,
   "metadata": {},
   "outputs": [],
   "source": [
    "months=int(age)*12\n",
    "weeks=months *4\n",
    "days=int(age)*365"
   ]
  },
  {
   "cell_type": "code",
   "execution_count": 26,
   "metadata": {},
   "outputs": [
    {
     "name": "stdout",
     "output_type": "stream",
     "text": [
      "you choosed the unit  days\n",
      "you lived for 18,250 days.\n"
     ]
    }
   ],
   "source": [
    "if unit ==\"months\" or unit ==\"m\" :\n",
    "    print(\"you choosed the unit  months\")\n",
    "    print(f\"you lived for {months:,} months.\")\n",
    "elif unit ==\"weeks\" or unit ==\"w\" :\n",
    "    print(\"you choosed the unit  weeks\")\n",
    "    print(f\"you lived for {weeks:,} months.\")\n",
    "elif unit ==\"days\" or unit ==\"d\"  :\n",
    "    print(\"you choosed the unit  days\")\n",
    "    print(f\"you lived for {days:,} days.\")"
   ]
  },
  {
   "cell_type": "code",
   "execution_count": null,
   "metadata": {},
   "outputs": [],
   "source": []
  }
 ],
 "metadata": {
  "kernelspec": {
   "display_name": "Python 3",
   "language": "python",
   "name": "python3"
  },
  "language_info": {
   "codemirror_mode": {
    "name": "ipython",
    "version": 3
   },
   "file_extension": ".py",
   "mimetype": "text/x-python",
   "name": "python",
   "nbconvert_exporter": "python",
   "pygments_lexer": "ipython3",
   "version": "3.10.5"
  }
 },
 "nbformat": 4,
 "nbformat_minor": 2
}
